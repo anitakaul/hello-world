name= input("Enter your name")
color = input("What is your favorite color?")

print("Hi", name, "your favorite color is", color)